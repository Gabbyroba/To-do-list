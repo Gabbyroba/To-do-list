{
 "cells": [
  {
   "cell_type": "code",
   "execution_count": 2,
   "metadata": {},
   "outputs": [],
   "source": [
    "from tkinter import *\n",
    "\n",
    "root = Tk()\n",
    "root.title(\"To-Do List\")\n",
    "\n",
    "tasks = []\n",
    "\n",
    "def add_task():\n",
    "    task = task_entry.get()\n",
    "    tasks.append(task)\n",
    "    update_listbox()\n",
    "\n",
    "def delete_task():\n",
    "    task = listbox.get(ANCHOR)\n",
    "    tasks.remove(task)\n",
    "    update_listbox()\n",
    "\n",
    "def update_listbox():\n",
    "    listbox.delete(0, END)\n",
    "    for task in tasks:\n",
    "        listbox.insert(END, task)\n",
    "\n",
    "task_entry = Entry(root, width=30)\n",
    "task_entry.pack(pady=10)\n",
    "\n",
    "add_button = Button(root, text=\"Add Task\", command=add_task)\n",
    "add_button.pack()\n",
    "\n",
    "delete_button = Button(root, text=\"Delete Task\", command=delete_task)\n",
    "delete_button.pack()\n",
    "\n",
    "listbox = Listbox(root, width=50)\n",
    "listbox.pack()\n",
    "\n",
    "root.mainloop()\n"
   ]
  }
 ],
 "metadata": {
  "kernelspec": {
   "display_name": "Python 3",
   "language": "python",
   "name": "python3"
  },
  "language_info": {
   "codemirror_mode": {
    "name": "ipython",
    "version": 3
   },
   "file_extension": ".py",
   "mimetype": "text/x-python",
   "name": "python",
   "nbconvert_exporter": "python",
   "pygments_lexer": "ipython3",
   "version": "3.10.5"
  },
  "orig_nbformat": 4,
  "vscode": {
   "interpreter": {
    "hash": "afb734500600fd355917ca529030176ea0ca205570884b88f2f6f7d791fd3fbe"
   }
  }
 },
 "nbformat": 4,
 "nbformat_minor": 2
}
